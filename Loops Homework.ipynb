{
 "cells": [
  {
   "cell_type": "markdown",
   "metadata": {},
   "source": [
    "#**Loops Homework**\n",
    "#Drew Honson"
   ]
  },
  {
   "cell_type": "markdown",
   "metadata": {},
   "source": [
    "This code uses a 'for' loop to generate the antisense strand (5' to 3') of a sequence to be amplified, then uses a series of conditionals to check whether the primers are on opposite strands. Code that performs this function is present in all primer checking and generating software."
   ]
  },
  {
   "cell_type": "code",
   "execution_count": 29,
   "metadata": {},
   "outputs": [
    {
     "name": "stdout",
     "output_type": "stream",
     "text": [
      "All good\n"
     ]
    }
   ],
   "source": [
    "#Sequence input and reverse complement generation\n",
    "sense = \"ACTGGGGGGGGGGGGGGGGGACTG\"\n",
    "senselist = tuple(sense)\n",
    "antisenselist = []\n",
    "for i in list(senselist[::-1]):\n",
    "    if i == \"A\":\n",
    "        antisenselist.append(\"T\")\n",
    "    elif i == \"T\":\n",
    "        antisenselist.append(\"A\")\n",
    "    elif i == \"C\":\n",
    "        antisenselist.append(\"G\")\n",
    "    elif i == \"G\":\n",
    "        antisenselist.append(\"C\")\n",
    "    else:\n",
    "        print(\"You have non-base letters in your sequence\")\n",
    "antisense = ''.join(antisenselist)\n",
    "\n",
    "#Primers\n",
    "fwd = \"ACTG\"\n",
    "rvs = \"CAGT\"\n",
    "\n",
    "if fwd in sense:\n",
    "    plus_fwd = True\n",
    "else:\n",
    "    plus_fwd = False\n",
    "if fwd in antisense:\n",
    "    minus_fwd = True\n",
    "else:\n",
    "    minus_fwd = False\n",
    "    \n",
    "if rvs in sense:\n",
    "    plus_rvs = True\n",
    "else:\n",
    "    plus_rvs = False\n",
    "if rvs in antisense:\n",
    "    minus_rvs = True\n",
    "else:\n",
    "    minus_rvs = False\n",
    "    \n",
    "if plus_fwd == plus_rvs == True:\n",
    "    print(\"Both primers are on the sense strand\")\n",
    "elif minus_fwd == minus_rvs == True:\n",
    "    print(\"Both primers are on the antisense strand\")\n",
    "elif plus_fwd == plus_rvs == False:\n",
    "    print(\"No sense strand primer\")\n",
    "elif minus_fwd == minus_rvs == False:\n",
    "    print(\"No antisense strand primer\")\n",
    "else:\n",
    "    print(\"All good\")\n",
    "    "
   ]
  },
  {
   "cell_type": "code",
   "execution_count": null,
   "metadata": {
    "collapsed": true
   },
   "outputs": [],
   "source": []
  }
 ],
 "metadata": {
  "kernelspec": {
   "display_name": "Python 3",
   "language": "python",
   "name": "python3"
  },
  "language_info": {
   "codemirror_mode": {
    "name": "ipython",
    "version": 3
   },
   "file_extension": ".py",
   "mimetype": "text/x-python",
   "name": "python",
   "nbconvert_exporter": "python",
   "pygments_lexer": "ipython3",
   "version": "3.6.1"
  }
 },
 "nbformat": 4,
 "nbformat_minor": 2
}
